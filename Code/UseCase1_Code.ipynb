{
 "cells": [
  {
   "cell_type": "markdown",
   "metadata": {},
   "source": [
    "# Use case 1:  \n",
    "The accompanying file titled transcripts_v3.zip contains examples of call transcripts with both the agent and customer transcripts being provided.\n",
    "\n",
    "## Question 1:\n",
    "\n",
    "Use a large language model of your choice to analyse the customer side of the transcript only and:  \n",
    "\n",
    "- 1) Identify the sentiment (positive, negative, neutral) of the call.  \n",
    "- 2) Determine call outcome (issue resolved, follow-up action needed).   \n"
   ]
  },
  {
   "cell_type": "markdown",
   "metadata": {},
   "source": [
    "### Solution 1:  \n",
    "\n",
    "1) Identify and install necessary libraries.\n",
    "2) Set up API calls to LLM.\n",
    "3) Optimize the prompt.\n",
    "4) Loop through the transcripts and make calls to LLM.\n",
    "   1) Identify the sentiment (positive, negative, neutral) of the call.  \n",
    "   2) Determine call outcome (issue resolved, follow-up action needed). \n",
    "5) Store the output in a dataframe.\n"
   ]
  },
  {
   "cell_type": "code",
   "execution_count": 42,
   "metadata": {},
   "outputs": [],
   "source": [
    "# 1) Identify and install necessary libraries.\n",
    "\n",
    "import pandas as pd\n",
    "import os\n",
    "from openai import OpenAI\n",
    "# import openai\n",
    "from env_variables import apikey, gptmodel\n",
    "import openpyxl\n",
    "import re\n",
    "import json\n",
    "import time\n",
    "from pathlib import Path\n",
    "import matplotlib.pyplot as plt\n",
    "import seaborn as sns\n",
    "import warnings\n",
    "\n",
    "# Suppress all warnings\n",
    "warnings.filterwarnings(\"ignore\")\n"
   ]
  },
  {
   "cell_type": "code",
   "execution_count": 2,
   "metadata": {},
   "outputs": [],
   "source": [
    "# 2) Set up API calls to LLM.\n",
    "\n",
    "def openai_inferencing(input_llm):\n",
    "    '''\n",
    "    Input = str: input to the llm, str: gpt model 3.5, 4o, etc\n",
    "    Output = result from llm.\n",
    "    \n",
    "    '''\n",
    "\n",
    "    client = OpenAI(api_key = apikey)\n",
    "\n",
    "    output = client.chat.completions.create(\n",
    "            model= gptmodel,\n",
    "            messages=[\n",
    "            {\"role\": \"system\", \"content\": input_llm}],\n",
    "            max_tokens=50,\n",
    "            temperature=0 )\n",
    "\n",
    "    # Return the output.\n",
    "    return output\n"
   ]
  },
  {
   "cell_type": "code",
   "execution_count": 3,
   "metadata": {},
   "outputs": [],
   "source": [
    "# 3) Optimize the prompt.txtdef gpt_input(transcript_path):\n",
    "\n",
    "def gpt_input(transcript_path):\n",
    "    '''\n",
    "    Input = transcript_path\n",
    "    Output = Prompt + transcript\n",
    "    '''\n",
    "\n",
    "    # Optimized prompt.\n",
    "    prompt = \"\"\"\n",
    "--reset\n",
    "\n",
    "Follow the instructions.\n",
    "\n",
    "[Instructions] \n",
    "1) Only use the following Call Transcript as reference.  \n",
    "2) The customer can also be mentioned as Member, Caller.  \n",
    "3) Understand meaning, intent and context of the conversation.  \n",
    "4) Identify the Sentinement: Positive, Negative or Neutral.  \n",
    "5) Call Outcome: Issue Resolved, Followup Action needed.  \n",
    "6) When the Customer is referred to a different team for support, it means the call outcome = \"Followup Action needed\".  \n",
    "7) Skip the intro and strictly only use the Output format = {Sentinement } - {Call Outcome}.\n",
    "\n",
    "[Call Transcript]\n",
    "\"\"\"\n",
    "\n",
    "    # Import the transcript.\n",
    "    with open(transcript_path, 'r') as txtfile:\n",
    "        input_transcript = txtfile.read()\n",
    "\n",
    "    # Build the input string.\n",
    "    input_string = prompt + input_transcript\n",
    "\n",
    "    # Return the string.\n",
    "    return input_string, input_transcript\n"
   ]
  },
  {
   "cell_type": "code",
   "execution_count": 4,
   "metadata": {},
   "outputs": [],
   "source": [
    "# 4) Loop through the transcripts in the folder.\n",
    "\n",
    "# Retrieves all the file paths of the FAQ chunks and turns them into a dictionary\n",
    "def get_all_file_paths(directory):\n",
    "    file_paths=[]\n",
    "\n",
    "    for root, dirs, files in os.walk(directory):\n",
    "        for file in files:\n",
    "\n",
    "            file_path = os.path.join(root, file)\n",
    "            file_paths.append(file_path)  # Append file paths.\n",
    "\n",
    "    # Returning file path.\n",
    "    return file_paths\n"
   ]
  },
  {
   "cell_type": "code",
   "execution_count": 5,
   "metadata": {},
   "outputs": [],
   "source": [
    "# Compare prompts and obtain output excel.\n",
    "def comparePrompts_excelOutput(transcripts_path, excelname):\n",
    "    '''\n",
    "    Input = transcript folder path, output excel name.\n",
    "    Output = Returns a df, also outputs and excel.\n",
    "    '''\n",
    "    # Declaring a list to store results.\n",
    "    resultslist = []\n",
    "\n",
    "    # Obtain all the transcripts.\n",
    "    all_transcripts = get_all_file_paths(transcripts_path)\n",
    "\n",
    "    # Looping through the transcripts and processing them.\n",
    "    for transcript_path in all_transcripts:\n",
    "        # Initialize a new dictionary for each transcript.\n",
    "        result_dict = {}\n",
    "\n",
    "        # Obtain the llm_input\n",
    "        input_llm, transcript = gpt_input(transcript_path)\n",
    "        output = openai_inferencing(input_llm)\n",
    "\n",
    "        # Output response message from llm.\n",
    "        output_message = output.choices[0].message.content\n",
    "\n",
    "        # Append transcript name.\n",
    "        result_dict['File name'] = Path(transcript_path).name\n",
    "\n",
    "        # Append transcript content.\n",
    "        result_dict['Transcript'] = transcript\n",
    "\n",
    "        # Split the string by the delimiter ' - ' and assign to two variables.\n",
    "        sentiment, call_outcome = output_message.split(' - ', 1)\n",
    "\n",
    "        # Append Sentiment and Call Outcome.\n",
    "        result_dict['Sentiment'] = sentiment.strip()\n",
    "        result_dict['Call_Outcome'] = call_outcome.strip()\n",
    "\n",
    "        # Collecting data to be used to build a dataframe.\n",
    "        result_dict[\"Raw_Outcome\"] = output_message\n",
    "\n",
    "        # Append the dict to a list.\n",
    "        resultslist.append(result_dict)\n",
    "\n",
    "        # Wait for 2 seconds to avoid rate limits.\n",
    "        time.sleep(2)\n",
    "\n",
    "        # Print the current list of results (optional).\n",
    "        print(\"Processing trascript :  \", str(result_dict['File name']))\n",
    "\n",
    "    # Saving to dataframe.\n",
    "    transcripts_df = pd.DataFrame(resultslist)\n",
    "\n",
    "    # Saving as an Excel file.\n",
    "    transcripts_df.to_excel(excelname, index=False)\n",
    "\n",
    "    return transcripts_df"
   ]
  },
  {
   "cell_type": "code",
   "execution_count": null,
   "metadata": {},
   "outputs": [],
   "source": [
    "# Building the transcript path.\n",
    "folder_path = \"C:/Users/abhis/OneDrive/Documents/Abhishek_Documents/Professional/AXA/DS_Interview/transcripts_v3\"\n",
    "excel_path = \"Usecase1_output_3.xlsx\"\n",
    "\n",
    "# Outputs the result as an excel and a dataframe.\n",
    "transcripts_df = comparePrompts_excelOutput(folder_path, excel_path)"
   ]
  },
  {
   "cell_type": "markdown",
   "metadata": {},
   "source": [
    "## Question 2:  \n",
    "Use appropriate metrics to monitor the performance of your model.  \n"
   ]
  },
  {
   "cell_type": "markdown",
   "metadata": {},
   "source": [
    "## Solution:\n",
    "- 20 transcripts were randomly selected to be manually labelled.\n",
    "- The Analysis can be found in the 'Analysis' tab of the Excel named 'Usecase1_output_1.xlsx'. The following have been analysed for 'Sentiment' and 'Call Outcome':\n",
    "\n",
    "    - Confusion matrix\n",
    "    - Accuracy\n",
    "    - Precision\n",
    "    - Recall\n",
    "    - F1 Score\n",
    "\n",
    "\n",
    "### Sentiment Analysis:\n",
    "\n",
    "| Sentiment Analysis  | Predicted Positive | Predicted Negative | Predicted Neutral |\n",
    "|---------------------|--------------------|--------------------|-------------------|\n",
    "| **Actual Positive**  | 13                 | 0                  | 0                 |\n",
    "| **Actual Negative**  | 0                  | 4                  | 0                 |\n",
    "| **Actual Neutral**   | 0                  | 1                  | 2                 |\n",
    "\n",
    "  \n",
    "    \n",
    "      \n",
    "   "
   ]
  },
  {
   "cell_type": "markdown",
   "metadata": {},
   "source": [
    "   \n",
    "\n",
    "| Metric     | Class    | Value  |\n",
    "|------------|----------|--------|\n",
    "| **Accuracy**       |          | 95%    |\n",
    "| **Precision**      | Positive | 100%   |\n",
    "|                    | Negative | 80%    |\n",
    "|                    | Neutral  | 100%   |\n",
    "| **Recall**         | Positive | 100%   |\n",
    "|                    | Negative | 100%   |\n",
    "|                    | Neutral  | 67%    |\n",
    "| **F1 Score**       | Positive | 100%   |\n",
    "|                    | Negative | 89%    |\n",
    "|                    | Neutral  | 80%    |\n",
    "\n",
    "\n",
    "\n",
    "###  Call Outcome:\n",
    "\n",
    "| Call Outcome      | Predicted Followup | Predicted Resolved |\n",
    "|-------------------|--------------------|--------------------|\n",
    "| **Actual Followup**  | 12                 | 1                  |\n",
    "| **Actual Resolved**  | 0                  | 7                  |\n",
    "\n",
    "\n",
    "\n"
   ]
  },
  {
   "cell_type": "markdown",
   "metadata": {},
   "source": [
    "| Metric       | Class    | Value  |\n",
    "|--------------|----------|--------|\n",
    "| **Accuracy** |          | 95%    |\n",
    "| **Precision**| Followup | 100%   |\n",
    "|              | Resolved | 88%    |\n",
    "| **Recall**   | Followup | 92%    |\n",
    "|              | Resolved | 100%   |\n",
    "| **F1 Score** | Followup | 96%    |\n",
    "|              | Resolved | 93%    |"
   ]
  },
  {
   "cell_type": "markdown",
   "metadata": {},
   "source": [
    "\n",
    "## Question 3:  \n",
    "Use methods of your choice (e.g. exploratory data analysis, statistical methods, visualisations etc.)  to extract useful insights from the data."
   ]
  },
  {
   "cell_type": "markdown",
   "metadata": {},
   "source": [
    "## Solution:\n",
    "\n",
    "### a) Sentiment Distribution:"
   ]
  },
  {
   "cell_type": "code",
   "execution_count": 37,
   "metadata": {},
   "outputs": [
    {
     "name": "stdout",
     "output_type": "stream",
     "text": [
      "\n",
      "The values are in percentages.\n",
      "\n",
      "Sentiment\n",
      "Positive    77.0\n",
      "Negative    13.5\n",
      "Neutral      9.5\n",
      "Name: proportion, dtype: float64\n"
     ]
    }
   ],
   "source": [
    "# Distribution of sentiment categories.\n",
    "\n",
    "# Copy the transcript_df to a df and process it.\n",
    "# Remove rows where 'File name' equals 'manifest.mf'\n",
    "df = transcripts_df.copy()\n",
    "df = df[df['File name'] != 'manifest.mf']\n",
    "\n",
    "\n",
    "sentiment_dist = df['Sentiment'].value_counts(normalize=True) * 100\n",
    "print('\\nThe values are in percentages.\\n')\n",
    "print(sentiment_dist)\n"
   ]
  },
  {
   "cell_type": "markdown",
   "metadata": {},
   "source": [
    "### b) Call Outcome Distribution:"
   ]
  },
  {
   "cell_type": "code",
   "execution_count": 38,
   "metadata": {},
   "outputs": [
    {
     "name": "stdout",
     "output_type": "stream",
     "text": [
      "\n",
      "The values are in percentages.\n",
      "\n",
      "Call_Outcome\n",
      "Issue Resolved            62.5\n",
      "Followup Action needed    37.5\n",
      "Name: proportion, dtype: float64\n"
     ]
    }
   ],
   "source": [
    "# Distribution of call outcomes\n",
    "outcome_dist = df['Call_Outcome'].value_counts(normalize=True) * 100\n",
    "print('\\nThe values are in percentages.\\n')\n",
    "print(outcome_dist)\n"
   ]
  },
  {
   "cell_type": "markdown",
   "metadata": {},
   "source": [
    "### c) Cross-tabulation (Sentiment vs Call Outcome)"
   ]
  },
  {
   "cell_type": "code",
   "execution_count": 39,
   "metadata": {},
   "outputs": [
    {
     "data": {
      "text/html": [
       "<div>\n",
       "<style scoped>\n",
       "    .dataframe tbody tr th:only-of-type {\n",
       "        vertical-align: middle;\n",
       "    }\n",
       "\n",
       "    .dataframe tbody tr th {\n",
       "        vertical-align: top;\n",
       "    }\n",
       "\n",
       "    .dataframe thead th {\n",
       "        text-align: right;\n",
       "    }\n",
       "</style>\n",
       "<table border=\"1\" class=\"dataframe\">\n",
       "  <thead>\n",
       "    <tr style=\"text-align: right;\">\n",
       "      <th>Call_Outcome</th>\n",
       "      <th>Followup Action needed</th>\n",
       "      <th>Issue Resolved</th>\n",
       "      <th>All</th>\n",
       "    </tr>\n",
       "    <tr>\n",
       "      <th>Sentiment</th>\n",
       "      <th></th>\n",
       "      <th></th>\n",
       "      <th></th>\n",
       "    </tr>\n",
       "  </thead>\n",
       "  <tbody>\n",
       "    <tr>\n",
       "      <th>Negative</th>\n",
       "      <td>22</td>\n",
       "      <td>5</td>\n",
       "      <td>27</td>\n",
       "    </tr>\n",
       "    <tr>\n",
       "      <th>Neutral</th>\n",
       "      <td>18</td>\n",
       "      <td>1</td>\n",
       "      <td>19</td>\n",
       "    </tr>\n",
       "    <tr>\n",
       "      <th>Positive</th>\n",
       "      <td>35</td>\n",
       "      <td>119</td>\n",
       "      <td>154</td>\n",
       "    </tr>\n",
       "    <tr>\n",
       "      <th>All</th>\n",
       "      <td>75</td>\n",
       "      <td>125</td>\n",
       "      <td>200</td>\n",
       "    </tr>\n",
       "  </tbody>\n",
       "</table>\n",
       "</div>"
      ],
      "text/plain": [
       "Call_Outcome  Followup Action needed  Issue Resolved  All\n",
       "Sentiment                                                \n",
       "Negative                          22               5   27\n",
       "Neutral                           18               1   19\n",
       "Positive                          35             119  154\n",
       "All                               75             125  200"
      ]
     },
     "execution_count": 39,
     "metadata": {},
     "output_type": "execute_result"
    }
   ],
   "source": [
    "# Cross-tabulation between Sentiment and Call Outcome\n",
    "\n",
    "cross_tab = pd.crosstab(df['Sentiment'], df['Call_Outcome'], margins=True)\n",
    "cross_tab\n"
   ]
  },
  {
   "cell_type": "markdown",
   "metadata": {},
   "source": [
    "### d) Visualization:"
   ]
  },
  {
   "cell_type": "markdown",
   "metadata": {},
   "source": [
    "#### i) Sentiment Distribution - Bar Plot"
   ]
  },
  {
   "cell_type": "code",
   "execution_count": 43,
   "metadata": {},
   "outputs": [
    {
     "data": {
      "image/png": "[encoded data removed]",
      "text/plain": [
       "<Figure size 600x400 with 1 Axes>"
      ]
     },
     "metadata": {},
     "output_type": "display_data"
    }
   ],
   "source": [
    "# Sentiment distribution plot\n",
    "plt.figure(figsize=(6,4))\n",
    "sns.countplot(data=df, x='Sentiment', palette='coolwarm')\n",
    "plt.title('Sentiment Distribution')\n",
    "plt.show()\n"
   ]
  },
  {
   "cell_type": "markdown",
   "metadata": {},
   "source": [
    "#### ii) Call outcome - Bar Plot"
   ]
  },
  {
   "cell_type": "code",
   "execution_count": 44,
   "metadata": {},
   "outputs": [
    {
     "data": {
      "image/png": "[encoded data removed]",
      "text/plain": [
       "<Figure size 600x400 with 1 Axes>"
      ]
     },
     "metadata": {},
     "output_type": "display_data"
    }
   ],
   "source": [
    "# Call outcome distribution plot\n",
    "plt.figure(figsize=(6,4))\n",
    "sns.countplot(data=df, x='Call_Outcome', palette='coolwarm')\n",
    "plt.title('Call Outcome Distribution')\n",
    "plt.show()\n"
   ]
  },
  {
   "cell_type": "markdown",
   "metadata": {},
   "source": [
    "#### iii) Sentiment vs Call Outcome - Heatmap"
   ]
  },
  {
   "cell_type": "code",
   "execution_count": 46,
   "metadata": {},
   "outputs": [
    {
     "data": {
      "image/png": "[encoded data removed]",
      "text/plain": [
       "<Figure size 800x600 with 2 Axes>"
      ]
     },
     "metadata": {},
     "output_type": "display_data"
    }
   ],
   "source": [
    "# Heatmap for Sentiment vs Call Outcome\n",
    "plt.figure(figsize=(8,6))\n",
    "sns.heatmap(pd.crosstab(df['Sentiment'], df['Call_Outcome']), annot=True, cmap='coolwarm', fmt='d')\n",
    "plt.title('Heatmap of Sentiment vs Call Outcome\\n')\n",
    "plt.show()"
   ]
  },
  {
   "cell_type": "markdown",
   "metadata": {},
   "source": [
    "#### iv) Sentiment and Call Outcome - Co-occurence"
   ]
  },
  {
   "cell_type": "code",
   "execution_count": 50,
   "metadata": {},
   "outputs": [
    {
     "name": "stdout",
     "output_type": "stream",
     "text": [
      "\n",
      "The values are in percentage:\n",
      "\n",
      "Sentiment_Outcome\n",
      "Positive - Issue Resolved            59.5\n",
      "Positive - Followup Action needed    17.5\n",
      "Negative - Followup Action needed    11.0\n",
      "Neutral - Followup Action needed      9.0\n",
      "Negative - Issue Resolved             2.5\n",
      "Neutral - Issue Resolved              0.5\n",
      "Name: proportion, dtype: float64\n"
     ]
    }
   ],
   "source": [
    "# Co-occurrence of Sentiment and Call Outcome\n",
    "df['Sentiment_Outcome'] = df['Sentiment'] + ' - ' + df['Call_Outcome']\n",
    "sentiment_outcome_dist = df['Sentiment_Outcome'].value_counts(normalize=True) * 100\n",
    "\n",
    "print('\\nThe values are in percentage:\\n')\n",
    "print(sentiment_outcome_dist)"
   ]
  },
  {
   "cell_type": "markdown",
   "metadata": {},
   "source": [
    "#### v) Sentiment Polarity vs Call Outcome Efficiency\n"
   ]
  },
  {
   "cell_type": "code",
   "execution_count": 52,
   "metadata": {},
   "outputs": [
    {
     "name": "stdout",
     "output_type": "stream",
     "text": [
      "\n",
      "The values are in percentage:\n",
      "\n",
      "Sentiment\n",
      "Negative    18.518519\n",
      "Neutral      5.263158\n",
      "Positive    77.272727\n",
      "Name: Call_Outcome, dtype: float64\n"
     ]
    }
   ],
   "source": [
    "# Proportion of \"Issue Resolved\" vs \"Followup Action Needed\" per sentiment\n",
    "resolved_ratio = df.groupby('Sentiment')['Call_Outcome'].apply(lambda x: (x == 'Issue Resolved').mean() * 100)\n",
    "\n",
    "print('\\nThe values are in percentage:\\n')\n",
    "print(resolved_ratio)\n"
   ]
  },
  {
   "cell_type": "code",
   "execution_count": null,
   "metadata": {},
   "outputs": [],
   "source": []
  }
 ],
 "metadata": {
  "kernelspec": {
   "display_name": "Python 3",
   "language": "python",
   "name": "python3"
  },
  "language_info": {
   "codemirror_mode": {
    "name": "ipython",
    "version": 3
   },
   "file_extension": ".py",
   "mimetype": "text/x-python",
   "name": "python",
   "nbconvert_exporter": "python",
   "pygments_lexer": "ipython3",
   "version": "3.12.5"
  }
 },
 "nbformat": 4,
 "nbformat_minor": 2
}
